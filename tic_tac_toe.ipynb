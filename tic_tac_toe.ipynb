{
 "cells": [
  {
   "cell_type": "code",
   "execution_count": 124,
   "id": "0e31a964-e3d3-471f-8449-c8893a04bcbc",
   "metadata": {},
   "outputs": [],
   "source": [
    "board=[\"-\",\"-\",\"-\",\n",
    "      \"-\",\"-\",\"-\",\n",
    "      \"-\",\"-\",\"-\"]\n",
    "\n",
    "current_player= 'x'\n",
    "winner = None\n",
    "game_running = True"
   ]
  },
  {
   "cell_type": "markdown",
   "id": "67e5c0ce-5212-403e-b501-5d5f86a13798",
   "metadata": {},
   "source": [
    "## Board"
   ]
  },
  {
   "cell_type": "code",
   "execution_count": 125,
   "id": "53eccad7-05a8-4fe5-9105-f94c980354cf",
   "metadata": {},
   "outputs": [
    {
     "name": "stdout",
     "output_type": "stream",
     "text": [
      "-|-|-\n",
      "-----\n",
      "-|-|-\n",
      "-----\n",
      "-|-|-\n"
     ]
    }
   ],
   "source": [
    "def printboard(board):\n",
    "    print(board[0]+ '|'+board[1]+ '|'+board[2])\n",
    "    print('-----')\n",
    "    print(board[3]+ '|'+board[4]+ '|'+board[5])\n",
    "    print('-----')\n",
    "    print(board[6]+ '|'+board[7]+ '|'+board[8])\n",
    "printboard(board)"
   ]
  },
  {
   "cell_type": "markdown",
   "id": "d99d8db1-3d4d-43a5-bfee-fbadf7b5f5b0",
   "metadata": {},
   "source": [
    "## Input"
   ]
  },
  {
   "cell_type": "code",
   "execution_count": 126,
   "id": "0554e769-459c-4685-850b-9f29e32af701",
   "metadata": {},
   "outputs": [],
   "source": [
    "def takeinput(board):\n",
    "    inp = int(input('Enter the number from 1 to 9'))\n",
    "    if inp >=1 and inp<=9 and board[inp-1]=='-':\n",
    "        board[inp-1]= current_player\n",
    "    else:\n",
    "        print('wrong input!')"
   ]
  },
  {
   "cell_type": "markdown",
   "id": "b94e8384-bd24-46ad-881e-17d39136fde8",
   "metadata": {},
   "source": [
    "## Check horizontel"
   ]
  },
  {
   "cell_type": "code",
   "execution_count": 127,
   "id": "56d387bd-b13b-4ba1-a61a-d2bc166c78dd",
   "metadata": {},
   "outputs": [],
   "source": [
    "def checkhorizontel(board):\n",
    "    global winner\n",
    "    if board[0]==board[1]==board[2] and board[0]!='-':\n",
    "            winner=board[0]\n",
    "            return True\n",
    "    elif board[3]==board[4]==board[5] and board[3]!='-':\n",
    "            winner=board[3]\n",
    "            return True\n",
    "    elif board[6]==board[7]==board[8] and board[6]!='-':\n",
    "            winner=board[6]\n",
    "            return True"
   ]
  },
  {
   "cell_type": "code",
   "execution_count": 128,
   "id": "75177195-ce6b-47a7-b13f-ac492266f7ed",
   "metadata": {},
   "outputs": [],
   "source": [
    "def checkverticle(board):\n",
    "    global winner\n",
    "    if board[0]==board[3]==board[6] and board[0]!='-':\n",
    "            winner=board[0]\n",
    "            return True\n",
    "    elif board[1]==board[4]==board[7] and board[1]!='-':\n",
    "             winner=board[1]\n",
    "             return True\n",
    "    elif board[2]==board[5]==board[8] and board[2]!='-':\n",
    "              winner=board[2]\n",
    "              return True"
   ]
  },
  {
   "cell_type": "code",
   "execution_count": 129,
   "id": "911860e7-d967-49c6-82e3-0df3a327fcfe",
   "metadata": {},
   "outputs": [],
   "source": [
    "def checkdiagonal(board):\n",
    "    global winner\n",
    "    if board[0]==board[4]==board[8] and board[0]!='-':\n",
    "            winner=board[0]\n",
    "            return True\n",
    "    elif board[2]==board[4]==board[6] and board[2]!='-':\n",
    "             winner=board[2]\n",
    "             return True\n",
    "   "
   ]
  },
  {
   "cell_type": "code",
   "execution_count": 130,
   "id": "776776ad-bf99-419a-8747-029c584f8303",
   "metadata": {},
   "outputs": [],
   "source": [
    "def checktie(board):\n",
    "    global game_running\n",
    "    if \"-\" not in board and checkwinner()==False:\n",
    "        printboard(board)\n",
    "        print('Its a tie')\n",
    "        game_running=False\n",
    "        "
   ]
  },
  {
   "cell_type": "code",
   "execution_count": 131,
   "id": "c77fabbb-04a9-4a25-82e3-144acfd203c6",
   "metadata": {},
   "outputs": [],
   "source": [
    "def switchplayer():\n",
    "    global current_player\n",
    "    if current_player=='x':\n",
    "        current_player='O'\n",
    "    else:\n",
    "        current_player='x'"
   ]
  },
  {
   "cell_type": "code",
   "execution_count": 132,
   "id": "1fe4133b-41d3-4b1d-97bd-d5d3354b175a",
   "metadata": {},
   "outputs": [],
   "source": [
    "def checkwinner():\n",
    "    global game_running\n",
    "    if checkhorizontel(board) or checkdiagonal(board) or checkverticle(board) :\n",
    "        printboard(board)\n",
    "        print(f'Winner is {winner}')\n",
    "        game_running=False\n",
    "        return True\n",
    "    else:\n",
    "        return False"
   ]
  },
  {
   "cell_type": "markdown",
   "id": "207ba203-b6a3-4181-b5b8-dfee17d07b4b",
   "metadata": {},
   "source": [
    "\n",
    "## check winner"
   ]
  },
  {
   "cell_type": "code",
   "execution_count": 133,
   "id": "6632cb61-28f9-4866-82ef-a71a0a4dd216",
   "metadata": {
    "tags": []
   },
   "outputs": [
    {
     "name": "stdout",
     "output_type": "stream",
     "text": [
      "-|-|-\n",
      "-----\n",
      "-|-|-\n",
      "-----\n",
      "-|-|-\n"
     ]
    },
    {
     "name": "stdin",
     "output_type": "stream",
     "text": [
      "Enter the number from 1 to 9 1\n"
     ]
    },
    {
     "name": "stdout",
     "output_type": "stream",
     "text": [
      "x|-|-\n",
      "-----\n",
      "-|-|-\n",
      "-----\n",
      "-|-|-\n"
     ]
    },
    {
     "name": "stdin",
     "output_type": "stream",
     "text": [
      "Enter the number from 1 to 9 4\n"
     ]
    },
    {
     "name": "stdout",
     "output_type": "stream",
     "text": [
      "x|-|-\n",
      "-----\n",
      "O|-|-\n",
      "-----\n",
      "-|-|-\n"
     ]
    },
    {
     "name": "stdin",
     "output_type": "stream",
     "text": [
      "Enter the number from 1 to 9 7\n"
     ]
    },
    {
     "name": "stdout",
     "output_type": "stream",
     "text": [
      "x|-|-\n",
      "-----\n",
      "O|-|-\n",
      "-----\n",
      "x|-|-\n"
     ]
    },
    {
     "name": "stdin",
     "output_type": "stream",
     "text": [
      "Enter the number from 1 to 9 5\n"
     ]
    },
    {
     "name": "stdout",
     "output_type": "stream",
     "text": [
      "x|-|-\n",
      "-----\n",
      "O|O|-\n",
      "-----\n",
      "x|-|-\n"
     ]
    },
    {
     "name": "stdin",
     "output_type": "stream",
     "text": [
      "Enter the number from 1 to 9 6\n"
     ]
    },
    {
     "name": "stdout",
     "output_type": "stream",
     "text": [
      "x|-|-\n",
      "-----\n",
      "O|O|x\n",
      "-----\n",
      "x|-|-\n"
     ]
    },
    {
     "name": "stdin",
     "output_type": "stream",
     "text": [
      "Enter the number from 1 to 9 2\n"
     ]
    },
    {
     "name": "stdout",
     "output_type": "stream",
     "text": [
      "x|O|-\n",
      "-----\n",
      "O|O|x\n",
      "-----\n",
      "x|-|-\n"
     ]
    },
    {
     "name": "stdin",
     "output_type": "stream",
     "text": [
      "Enter the number from 1 to 9 3\n"
     ]
    },
    {
     "name": "stdout",
     "output_type": "stream",
     "text": [
      "x|O|x\n",
      "-----\n",
      "O|O|x\n",
      "-----\n",
      "x|-|-\n"
     ]
    },
    {
     "name": "stdin",
     "output_type": "stream",
     "text": [
      "Enter the number from 1 to 9 7\n"
     ]
    },
    {
     "name": "stdout",
     "output_type": "stream",
     "text": [
      "wrong input!\n",
      "x|O|x\n",
      "-----\n",
      "O|O|x\n",
      "-----\n",
      "x|-|-\n"
     ]
    },
    {
     "name": "stdin",
     "output_type": "stream",
     "text": [
      "Enter the number from 1 to 9 8\n"
     ]
    },
    {
     "name": "stdout",
     "output_type": "stream",
     "text": [
      "x|O|x\n",
      "-----\n",
      "O|O|x\n",
      "-----\n",
      "x|x|-\n"
     ]
    },
    {
     "name": "stdin",
     "output_type": "stream",
     "text": [
      "Enter the number from 1 to 9 9\n"
     ]
    },
    {
     "name": "stdout",
     "output_type": "stream",
     "text": [
      "x|O|x\n",
      "-----\n",
      "O|O|x\n",
      "-----\n",
      "x|x|O\n",
      "Its a tie\n"
     ]
    }
   ],
   "source": [
    "while game_running:\n",
    "    printboard(board)\n",
    "    takeinput(board)\n",
    "    checkwinner()\n",
    "    checktie(board)\n",
    "    switchplayer()"
   ]
  },
  {
   "cell_type": "code",
   "execution_count": null,
   "id": "e13cda7d-1b67-4a7a-87ba-534854c37e8a",
   "metadata": {
    "tags": []
   },
   "outputs": [],
   "source": []
  },
  {
   "cell_type": "code",
   "execution_count": null,
   "id": "240bf2b6-ea0a-4ed4-ac03-5d2611b7ecbd",
   "metadata": {},
   "outputs": [],
   "source": []
  }
 ],
 "metadata": {
  "kernelspec": {
   "display_name": "Python 3 (ipykernel)",
   "language": "python",
   "name": "python3"
  },
  "language_info": {
   "codemirror_mode": {
    "name": "ipython",
    "version": 3
   },
   "file_extension": ".py",
   "mimetype": "text/x-python",
   "name": "python",
   "nbconvert_exporter": "python",
   "pygments_lexer": "ipython3",
   "version": "3.9.12"
  }
 },
 "nbformat": 4,
 "nbformat_minor": 5
}
